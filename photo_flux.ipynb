{
 "cells": [
  {
   "cell_type": "code",
   "execution_count": null,
   "metadata": {},
   "outputs": [],
   "source": [
    "# Photon flux is based on TU Delft Solar Engineering Dept. by Prof. Arno Smets\n",
    "# By Jade Nuss - Harvard University"
   ]
  },
  {
   "cell_type": "code",
   "execution_count": 1,
   "metadata": {},
   "outputs": [],
   "source": [
    "import numpy as np  # useful for many scientific computing in Python\n",
    "import pandas as pd # primary data structure library"
   ]
  },
  {
   "cell_type": "code",
   "execution_count": 2,
   "metadata": {},
   "outputs": [],
   "source": [
    "from sympy import *\n",
    "import mpmath as mp # sympy needs this library to do exponentials and logarithm\n",
    "mp.dps = 25; mp.pretty = True\n",
    "from IPython.display import display # shows symbol in LaTex\n",
    "\n",
    "x, y, z = symbols('x,y,z')\n",
    "f,g,h = symbols('f,g,h', cls=Function)\n",
    "%matplotlib inline"
   ]
  },
  {
   "cell_type": "code",
   "execution_count": 29,
   "metadata": {},
   "outputs": [],
   "source": [
    "from sympy import symbols\n",
    "from sympy.abc import lamda, rho, zeta, upsilon, theta, omega, psi, phi, n"
   ]
  },
  {
   "cell_type": "markdown",
   "metadata": {},
   "source": [
    "For the two moments of the day that becomes:\n",
    "\n",
    "\n",
    "$$\n",
    "  \\phi TOT,x = \\int_{\\lambda\\scriptscriptstyle offset,x \\textstyle}^{\\lambda\\scriptscriptstyle max} \\phi {\\scriptscriptstyle X} \\textstyle(\\lambda) \\,d\\lambda = \\text{surface triangle} =\\frac{1}{2} - \\phi \\text{MAX,  x}(\\lambda max - \\lambda \\text{offset,x}) $$ \n",
    "\n",
    "$$\n",
    "  \\phi TOT,noon = \\frac{1}{2}{\\phi\\scriptscriptstyle max,noon \\textstyle}{\\lambda\\scriptscriptstyle max} \\text{(}\\lambda {\\scriptscriptstyle offset,noon}\\text{)} = 600 x 10^ {9} \\phi\\scriptscriptstyle max,noon$$\n",
    "\n",
    "$$\n",
    "  \\phi TOT,8am = \\frac{1}{2}{\\phi\\scriptscriptstyle max,8am \\textstyle}{\\lambda\\scriptscriptstyle max} \\text{(}\\lambda {\\scriptscriptstyle offset,noon}\\text{)} = 550 x 10^{9} \\phi\\scriptscriptstyle max,8am$$\n",
    "\n",
    "\n",
    "\n"
   ]
  },
  {
   "cell_type": "markdown",
   "metadata": {},
   "source": [
    "Convergence\n",
    "To do this we'll use an integrand given by a specific function rather than a data set. The function\n",
    "$$\n",
    "  \\int_0^{24 \\times 365} \\text{d} t \\, I(t) \\approx 3286.814506640615.\n",
    "$$"
   ]
  },
  {
   "cell_type": "code",
   "execution_count": 99,
   "metadata": {},
   "outputs": [
    {
     "name": "stdin",
     "output_type": "stream",
     "text": [
      "Enter earliest moment to intgrate over in nm 550\n",
      "Enter maximum moment to intgrate over in nm 600\n"
     ]
    }
   ],
   "source": [
    "t1 = (input(\"Enter earliest moment to intgrate over in nm\"))\n",
    "t2 = (input(\"Enter maximum moment to intgrate over in nm\"))"
   ]
  },
  {
   "cell_type": "code",
   "execution_count": 100,
   "metadata": {},
   "outputs": [
    {
     "name": "stdin",
     "output_type": "stream",
     "text": [
      "Enter the lower spectral range at noon in nm 300\n",
      "Enter the upper spectral range at noon in nm 600\n"
     ]
    }
   ],
   "source": [
    "pfl = (input(\"Enter the lower spectral range at noon in nm\"))\n",
    "pfu = (input(\"Enter the upper spectral range at noon in nm\"))"
   ]
  },
  {
   "cell_type": "code",
   "execution_count": 102,
   "metadata": {},
   "outputs": [
    {
     "name": "stdout",
     "output_type": "stream",
     "text": [
      "0.25\n",
      "φ\n",
      "TOT.noon\n"
     ]
    }
   ],
   "source": [
    "pf=.5*(pfu*10**(-9)-pfl*10**(-9))/(t2*10**(-9))\n",
    "unit=\"TOT.noon\"\n",
    "unit2=unichr(0x3c6)\n",
    "print(pf)\n",
    "print(unichr(0x3c6))\n",
    "print(unit)"
   ]
  },
  {
   "cell_type": "code",
   "execution_count": 89,
   "metadata": {},
   "outputs": [
    {
     "name": "stdout",
     "output_type": "stream",
     "text": [
      "The photon flux is 0.250000 at noon\n"
     ]
    }
   ],
   "source": [
    "print(\"The photon flux is %f at noon\"%(pf))"
   ]
  },
  {
   "cell_type": "code",
   "execution_count": 104,
   "metadata": {},
   "outputs": [
    {
     "name": "stdin",
     "output_type": "stream",
     "text": [
      "Enter the lower spectral range at 8am in nm 400\n",
      "Enter the upper spectral range at 8am in nm 600\n"
     ]
    }
   ],
   "source": [
    "pfl2 = (input(\"Enter the lower spectral range at 8am in nm\"))\n",
    "pfu2 = (input(\"Enter the upper spectral range at 8am in nm\"))"
   ]
  },
  {
   "cell_type": "code",
   "execution_count": 107,
   "metadata": {},
   "outputs": [
    {
     "name": "stdout",
     "output_type": "stream",
     "text": [
      "0.181818181818\n",
      "φ\n",
      "TOT.noon\n"
     ]
    }
   ],
   "source": [
    "pf2=-.5*(pfl2*10**(-9)-pfu2*10**(-9))/(t1*10**(-9))\n",
    "unit=\"TOT.noon\"\n",
    "unit2=unichr(0x3c6)\n",
    "print(pf2)\n",
    "print(unichr(0x3c6))\n",
    "print(unit)"
   ]
  },
  {
   "cell_type": "code",
   "execution_count": 108,
   "metadata": {},
   "outputs": [
    {
     "name": "stdout",
     "output_type": "stream",
     "text": [
      "The photon flux is 0.181818 at 8am\n"
     ]
    }
   ],
   "source": [
    "print(\"The photon flux is %f at 8am\"%(pf2))"
   ]
  },
  {
   "cell_type": "code",
   "execution_count": 37,
   "metadata": {},
   "outputs": [
    {
     "name": "stdout",
     "output_type": "stream",
     "text": [
      "['\\x01', '\\x02', '\\x03', '\\x04', '\\x05', '\\x06', '\\x07', '\\x08', '\\t', '\\n', '\\x0b', '\\x0c', '\\r', '\\x0e', '\\x0f', '\\x10', '\\x11', '\\x12', '\\x13', '\\x14', '\\x15', '\\x16', '\\x17', '\\x18', '\\x19', '\\x1a', '\\x1b', '\\x1c', '\\x1d', '\\x1e', '\\x1f', ' ', '!', '\"', '#', '$', '%', '&', \"'\", '(', ')', '*', '+', ',', '-', '.', '/', '0', '1', '2', '3', '4', '5', '6', '7', '8', '9', ':', ';', '<', '=', '>', '?', '@', 'A', 'B', 'C', 'D', 'E', 'F', 'G', 'H', 'I', 'J', 'K', 'L', 'M', 'N', 'O', 'P', 'Q', 'R', 'S', 'T', 'U', 'V', 'W', 'X', 'Y', 'Z', '[', '\\\\', ']', '^', '_', '`', 'a', 'b', 'c', 'd', 'e', 'f', 'g', 'h', 'i', 'j', 'k', 'l', 'm', 'n', 'o', 'p', 'q', 'r', 's', 't', 'u', 'v', 'w', 'x', 'y', 'z', '{', '|', '}', '~', '\\x7f', '\\x80', '\\x81', '\\x82', '\\x83', '\\x84', '\\x85', '\\x86', '\\x87', '\\x88', '\\x89', '\\x8a', '\\x8b', '\\x8c', '\\x8d', '\\x8e', '\\x8f', '\\x90', '\\x91', '\\x92', '\\x93', '\\x94', '\\x95', '\\x96', '\\x97', '\\x98', '\\x99', '\\x9a', '\\x9b', '\\x9c', '\\x9d', '\\x9e', '\\x9f', '\\xa0', '\\xa1', '\\xa2', '\\xa3', '\\xa4', '\\xa5', '\\xa6', '\\xa7', '\\xa8', '\\xa9', '\\xaa', '\\xab', '\\xac', '\\xad', '\\xae', '\\xaf', '\\xb0', '\\xb1', '\\xb2', '\\xb3', '\\xb4', '\\xb5', '\\xb6', '\\xb7', '\\xb8', '\\xb9', '\\xba', '\\xbb', '\\xbc', '\\xbd', '\\xbe', '\\xbf', '\\xc0', '\\xc1', '\\xc2', '\\xc3', '\\xc4', '\\xc5', '\\xc6', '\\xc7', '\\xc8', '\\xc9', '\\xca', '\\xcb', '\\xcc', '\\xcd', '\\xce', '\\xcf', '\\xd0', '\\xd1', '\\xd2', '\\xd3', '\\xd4', '\\xd5', '\\xd6', '\\xd7', '\\xd8', '\\xd9', '\\xda', '\\xdb', '\\xdc', '\\xdd', '\\xde', '\\xdf', '\\xe0', '\\xe1', '\\xe2', '\\xe3', '\\xe4', '\\xe5', '\\xe6', '\\xe7', '\\xe8', '\\xe9', '\\xea', '\\xeb', '\\xec', '\\xed', '\\xee', '\\xef', '\\xf0', '\\xf1', '\\xf2', '\\xf3', '\\xf4', '\\xf5', '\\xf6', '\\xf7', '\\xf8', '\\xf9', '\\xfa', '\\xfb', '\\xfc', '\\xfd', '\\xfe']\n"
     ]
    }
   ],
   "source": [
    "greek_letterz=[chr(code) for code in range(1,255)]\n",
    "\n",
    "print(greek_letterz)"
   ]
  },
  {
   "cell_type": "code",
   "execution_count": 40,
   "metadata": {},
   "outputs": [
    {
     "name": "stdout",
     "output_type": "stream",
     "text": [
      "0x3b1 α\n",
      "0x3b2 β\n",
      "0x3b3 γ\n",
      "0x3b4 δ\n",
      "0x3b5 ε\n",
      "0x3b6 ζ\n",
      "0x3b7 η\n",
      "0x3b8 θ\n",
      "0x3b9 ι\n",
      "0x3ba κ\n",
      "0x3bb λ\n",
      "0x3bc μ\n",
      "0x3bd ν\n",
      "0x3be ξ\n",
      "0x3bf ο\n",
      "0x3c0 π\n",
      "0x3c1 ρ\n",
      "0x3c2 ς\n",
      "0x3c3 σ\n",
      "0x3c4 τ\n",
      "0x3c5 υ\n",
      "0x3c6 φ\n",
      "0x3c7 χ\n",
      "0x3c8 ψ\n",
      "0x3c9 ω\n"
     ]
    }
   ],
   "source": [
    " for greek_code in range(0x3b1,0x3ca):\n",
    "    greek_char = unichr(greek_code).encode('utf-8')\n",
    "    print hex(greek_code), greek_char"
   ]
  },
  {
   "cell_type": "code",
   "execution_count": 70,
   "metadata": {},
   "outputs": [
    {
     "name": "stdout",
     "output_type": "stream",
     "text": [
      "My name is 0.25 and I am 0 years old\n",
      "My salary is 0.25\n",
      "The value of pi is %f \n",
      " Short pi is %0.2f\n"
     ]
    }
   ],
   "source": [
    "# %s is for Strings, %d for integer , %f for float\n",
    "print(\"My name is %s and I am %d years old\"%(pf,pf))\n",
    "# %0.2f is to display 2 decimal points\n",
    "print(\"My salary is %0.2f\"%(pf))\n",
    "# Another example of float\n",
    "print(\"The value of pi is %f \\n Short pi is %0.2f\" )"
   ]
  },
  {
   "cell_type": "code",
   "execution_count": null,
   "metadata": {},
   "outputs": [],
   "source": []
  }
 ],
 "metadata": {
  "kernelspec": {
   "display_name": "Python 2",
   "language": "python",
   "name": "python2"
  },
  "language_info": {
   "codemirror_mode": {
    "name": "ipython",
    "version": 2
   },
   "file_extension": ".py",
   "mimetype": "text/x-python",
   "name": "python",
   "nbconvert_exporter": "python",
   "pygments_lexer": "ipython2",
   "version": "2.7.18"
  }
 },
 "nbformat": 4,
 "nbformat_minor": 2
}
