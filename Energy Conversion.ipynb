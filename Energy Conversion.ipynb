{
 "cells": [
  {
   "cell_type": "code",
   "execution_count": 9,
   "metadata": {},
   "outputs": [],
   "source": [
    "import openpyxl\n",
    "import numpy as np\n",
    "import os\n",
    "import matplotlib.pyplot as plt\n",
    "import datetime\n"
   ]
  },
  {
   "cell_type": "code",
   "execution_count": 10,
   "metadata": {},
   "outputs": [],
   "source": [
    "COULOMBS = 6.24150934E18\n",
    "JMP = True\n"
   ]
  },
  {
   "cell_type": "code",
   "execution_count": 18,
   "metadata": {},
   "outputs": [
    {
     "name": "stdout",
     "output_type": "stream",
     "text": [
      "Voc: 700\n",
      "Isc: 40\n",
      "FF: 78\n",
      "c-Si solar cell length: 1\n",
      "Pin Kw: 1\n"
     ]
    }
   ],
   "source": [
    "if JMP:\n",
    "    Voc = eval(input(\"Voc: \"))\n",
    "    Isc = eval(input(\"Isc: \"))\n",
    "    FF = eval(input(\"FF: \"))\n",
    "    SIa = eval(input(\"c-Si solar cell length: \"))\n",
    "    Pin = eval(input(\"Pin Kw: \"))\n",
    "else:\n",
    "    AM15DATAPATH = 'AM1.5G.xlsx'"
   ]
  },
  {
   "cell_type": "code",
   "execution_count": 19,
   "metadata": {},
   "outputs": [],
   "source": [
    "''' Jsc = Isc/A'''\n",
    "Jsc = np.divide(Isc,SIa)"
   ]
  },
  {
   "cell_type": "code",
   "execution_count": 20,
   "metadata": {},
   "outputs": [
    {
     "name": "stdout",
     "output_type": "stream",
     "text": [
      "40.0\n",
      "Ma/CM^2\n"
     ]
    }
   ],
   "source": [
    "print(Jsc)\n",
    "print('Ma/CM^2')"
   ]
  },
  {
   "cell_type": "code",
   "execution_count": 27,
   "metadata": {},
   "outputs": [],
   "source": [
    "''' eff= Jsc*Voc*FF/Pin'''\n",
    "eff = Jsc*Voc*FF/(Pin*100000)"
   ]
  },
  {
   "cell_type": "code",
   "execution_count": 28,
   "metadata": {},
   "outputs": [
    {
     "name": "stdout",
     "output_type": "stream",
     "text": [
      "21.84\n"
     ]
    }
   ],
   "source": [
    "print(eff)"
   ]
  },
  {
   "cell_type": "code",
   "execution_count": 17,
   "metadata": {},
   "outputs": [
    {
     "data": {
      "text/plain": [
       "1.0"
      ]
     },
     "execution_count": 17,
     "metadata": {},
     "output_type": "execute_result"
    }
   ],
   "source": [
    "np.emath.log(np.exp(1))"
   ]
  },
  {
   "cell_type": "code",
   "execution_count": 32,
   "metadata": {},
   "outputs": [
    {
     "name": "stdout",
     "output_type": "stream",
     "text": [
      "Jo: 50\n",
      "Vt: 100\n"
     ]
    }
   ],
   "source": [
    "Jo = eval(input(\"Jo: \"))\n",
    "Vt = eval(input(\"Vt: \"))"
   ]
  },
  {
   "cell_type": "code",
   "execution_count": 33,
   "metadata": {},
   "outputs": [],
   "source": [
    "Voc1 = Vt*np.emath.log(Jsc/Jo)"
   ]
  },
  {
   "cell_type": "code",
   "execution_count": 34,
   "metadata": {},
   "outputs": [
    {
     "name": "stdout",
     "output_type": "stream",
     "text": [
      "-22.31435513142097\n"
     ]
    }
   ],
   "source": [
    "print(Voc1)"
   ]
  },
  {
   "cell_type": "markdown",
   "metadata": {},
   "source": [
    "# Person : chemical to thermal"
   ]
  },
  {
   "cell_type": "code",
   "execution_count": 1,
   "metadata": {},
   "outputs": [
    {
     "name": "stdout",
     "output_type": "stream",
     "text": [
      "Enter calories: 2500\n",
      "Enter years: 1\n"
     ]
    }
   ],
   "source": [
    "kcal = eval(input(\"Enter calories: \"))\n",
    "year = eval(input(\"Enter years: \"))"
   ]
  },
  {
   "cell_type": "code",
   "execution_count": 21,
   "metadata": {},
   "outputs": [],
   "source": [
    "E1=kcal*4.2/1000\n",
    "P1=E1/(24*60*60*year)*1000000"
   ]
  },
  {
   "cell_type": "markdown",
   "metadata": {},
   "source": [
    "# Power and Energy"
   ]
  },
  {
   "cell_type": "code",
   "execution_count": 22,
   "metadata": {},
   "outputs": [
    {
     "name": "stdout",
     "output_type": "stream",
     "text": [
      "10.5\n",
      "121.52777777777777\n"
     ]
    }
   ],
   "source": [
    "print(E1)\n",
    "print(P1)"
   ]
  },
  {
   "cell_type": "markdown",
   "metadata": {},
   "source": [
    "## lighting : electrical to thermal"
   ]
  },
  {
   "cell_type": "code",
   "execution_count": 1,
   "metadata": {},
   "outputs": [
    {
     "name": "stdout",
     "output_type": "stream",
     "text": [
      "# Bolts of lightning: 1\n",
      "Enter milliseconds: 30\n",
      "Bolt voltage (MV): 100\n",
      "Bolt current (kA): 100\n"
     ]
    }
   ],
   "source": [
    "Plt = eval(input(\"# Bolts of lightning: \"))\n",
    "ltT = eval(input(\"Enter milliseconds: \"))\n",
    "Vlt = eval(input(\"Bolt voltage (MV): \"))\n",
    "kAlt = eval(input(\"Bolt current (kA): \"))"
   ]
  },
  {
   "cell_type": "code",
   "execution_count": 18,
   "metadata": {},
   "outputs": [],
   "source": [
    "E2=(Plt*Vlt*1000000*kAlt*1000)/1000000000000\n",
    "P2=E2*ltT"
   ]
  },
  {
   "cell_type": "code",
   "execution_count": 19,
   "metadata": {},
   "outputs": [
    {
     "name": "stdout",
     "output_type": "stream",
     "text": [
      "10.0\n",
      "300.0\n"
     ]
    }
   ],
   "source": [
    "print(E2)\n",
    "print(P2)"
   ]
  },
  {
   "cell_type": "code",
   "execution_count": 2,
   "metadata": {},
   "outputs": [
    {
     "name": "stdout",
     "output_type": "stream",
     "text": [
      "# Carbon atoms: 1\n",
      "# of moles: 1\n",
      "Kg of Carbon: 1\n",
      "Time (hrs): 1\n"
     ]
    }
   ],
   "source": [
    "Ce = eval(input(\"# Carbon atoms: \"))\n",
    "Cmole = eval(input(\"# of moles: \"))\n",
    "Ckg = eval(input(\"Kg of Carbon: \"))\n",
    "kAlt = eval(input(\"Time (hrs): \"))"
   ]
  },
  {
   "cell_type": "markdown",
   "metadata": {},
   "source": [
    "# Chemical to Thermal"
   ]
  },
  {
   "cell_type": "code",
   "execution_count": 3,
   "metadata": {},
   "outputs": [],
   "source": [
    "E31=(6.0221*10**23*Ce*6.40*10**-19)/100000\n",
    "E3=E31*100/(Cmole*12)\n",
    "P3=E3*10/36"
   ]
  },
  {
   "cell_type": "code",
   "execution_count": 4,
   "metadata": {},
   "outputs": [
    {
     "name": "stdout",
     "output_type": "stream",
     "text": [
      "32.117866666666664 MJ\n",
      "8.921629629629628 Kw\n"
     ]
    }
   ],
   "source": [
    "print(E3,\"MJ\")\n",
    "print(P3,\"Kw\" )"
   ]
  },
  {
   "cell_type": "markdown",
   "metadata": {},
   "source": [
    "# Tea : Electrical to Thermal"
   ]
  },
  {
   "cell_type": "code",
   "execution_count": null,
   "metadata": {},
   "outputs": [],
   "source": [
    "t1 = eval(input(\"Orginal temperature (celcius): \"))\n",
    "t2 = eval(input(\"Final temerature: \"))\n",
    "Wkg = eval(input(\"Amount of water (Kg): \"))\n",
    "teat = eval(input(\"Time (min.): \"))"
   ]
  },
  {
   "cell_type": "markdown",
   "metadata": {},
   "source": [
    "# House :  Light to Thermal"
   ]
  },
  {
   "cell_type": "code",
   "execution_count": null,
   "metadata": {},
   "outputs": [],
   "source": [
    "rl = eval(input(\"Roof length (M): \"))\n",
    "rw = eval(input(\"Roof width (M): \"))\n",
    "ty = eval(input(\"Time (years): \"))\n",
    "ai = eval(input(\"Annual irradiation (K Wh/m^2 year): \"))"
   ]
  },
  {
   "cell_type": "code",
   "execution_count": null,
   "metadata": {},
   "outputs": [],
   "source": []
  },
  {
   "cell_type": "markdown",
   "metadata": {},
   "source": [
    "# Battery : electrical to chemical"
   ]
  },
  {
   "cell_type": "code",
   "execution_count": null,
   "metadata": {},
   "outputs": [],
   "source": [
    "bv = eval(input(\"Battery voltage (V): \"))\n",
    "bc = eval(input(\"Capacity (mAh): \"))\n",
    "ct = eval(input(\"Charge time (hours): \"))"
   ]
  },
  {
   "cell_type": "markdown",
   "metadata": {},
   "source": [
    "# Human : chemical to thermal"
   ]
  },
  {
   "cell_type": "code",
   "execution_count": null,
   "metadata": {},
   "outputs": [],
   "source": [
    "wp = eval(input(\"World population (billions): \"))\n",
    "bc = eval(input(\"Capacity (mAh): \"))\n",
    "ct = eval(input(\"Charge time (hours): \"))"
   ]
  },
  {
   "cell_type": "markdown",
   "metadata": {},
   "source": [
    "# solar energy : light to thermal"
   ]
  },
  {
   "cell_type": "code",
   "execution_count": null,
   "metadata": {},
   "outputs": [],
   "source": [
    "st = eval(input(\"Time solar energy reaching the earth (hrs): \"))\n",
    "bc = eval(input(\"Solar constant (Wm^2) assume 1361: \"))"
   ]
  }
 ],
 "metadata": {
  "kernelspec": {
   "display_name": "Python 3",
   "language": "python",
   "name": "python3"
  },
  "language_info": {
   "codemirror_mode": {
    "name": "ipython",
    "version": 3
   },
   "file_extension": ".py",
   "mimetype": "text/x-python",
   "name": "python",
   "nbconvert_exporter": "python",
   "pygments_lexer": "ipython3",
   "version": "3.8.5"
  }
 },
 "nbformat": 4,
 "nbformat_minor": 4
}
